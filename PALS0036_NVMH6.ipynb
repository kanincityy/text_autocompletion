{
  "nbformat": 4,
  "nbformat_minor": 0,
  "metadata": {
    "colab": {
      "provenance": [],
      "gpuType": "T4"
    },
    "kernelspec": {
      "name": "python3",
      "display_name": "Python 3"
    },
    "language_info": {
      "name": "python"
    },
    "accelerator": "GPU"
  },
  "cells": [
    {
      "cell_type": "markdown",
      "source": [
        "# PALS0039 Introduction to Deep Learning for Speech and Language Processing  \n",
        "\n",
        "###**Asessment Coursework: Autocompletion Task**\n",
        "\n",
        "####Student ID: NVMH6\n",
        "\n",
        "####Word Count:"
      ],
      "metadata": {
        "id": "jrj8opz8NK2N"
      }
    },
    {
      "cell_type": "markdown",
      "source": [
        "___\n",
        "#Task Overview\n",
        "\n",
        "Humans possess a remarkable ability to complete words, sentences, and even sounds, even when parts are missing or obscured. Autocompletion systems, as exemplified by text-editing software, emulate this capability by providing text suggestions, enhancing efficiency in text-based communication. This coursework focuses on building such an autocompletion system, specifically by implementing a next-character prediction model. This approach predicts subsequent characters given a preceding character sequence, operating regardless of word boundaries. While the model's primary function is next-character prediction, its ability to generate coherent text will be demonstrated by prompting it to generate short story-like sequences, leveraging the fact that the model is trained on fiction stories.\n",
        "\n",
        "In developing this system, I considered both word-level and character-level input representations. However, a **character-level approach** was chosen due to its ability to handle out-of-vocabulary (OOV) words and its smaller vocabulary size, which allows for more extensive use of training data. Although word-level representations offer the advantage of shorter sequences and the potential to capture more semantic meaning, the character-level approach is more suitable for this task.\n",
        "\n",
        "For this task, I chose to use a **Long Short-Term Memory** (LSTM) network, a type of recurrent neural network (RNN) that excels at sequence modeling. LSTMs are designed to capture long-range dependencies within sequential data, a crucial requirement for autocompletion. Unlike standard RNNs, LSTMs incorporate mechanisms to address the vanishing and exploding gradient problems, enabling them to learn from longer sequences. More information on the aspects of the architecture can be found in the Model Implementation section."
      ],
      "metadata": {
        "id": "LDmdM4tERg_X"
      }
    },
    {
      "cell_type": "markdown",
      "source": [
        "___\n",
        "#Data Wrangling & Environment Set up\n",
        "\n",
        "The data pre-processing section is split into the following code blocks:\n",
        "\n",
        "1. Load relevant libraries and functions\n",
        "2. Create a function to load the text files from the urls available on Moodle (accessed via the Project Gutenberg website)\n",
        "3. Create a TextCharacterDataset class with the parent Dataset class from Pytorch\n",
        "4. Splitting and inspecting the data\n"
      ],
      "metadata": {
        "id": "dVP4SKHWMr5X"
      }
    },
    {
      "cell_type": "code",
      "execution_count": 1,
      "metadata": {
        "id": "LY207a8BMpSA"
      },
      "outputs": [],
      "source": [
        "import torch\n",
        "from torch.utils.data import Dataset, DataLoader\n",
        "from sklearn.model_selection import train_test_split\n",
        "import matplotlib.pyplot as plt\n",
        "import requests\n",
        "import torch.nn as nn\n",
        "import torch.nn.functional as F\n",
        "import tqdm\n",
        "import re\n",
        "import torch"
      ]
    },
    {
      "cell_type": "markdown",
      "source": [
        "___\n",
        "## Loading the URLs\n",
        "\n",
        "This **load_text_from_url** function ensures that the text content from the Project Gutenberg URLs is retrieved properly. The requests library is a user-friendly way of handling communication with web servers and in this case, retrieving text content from the URLs.\n",
        "\n",
        "After that,\n",
        "\n",
        "I have decided to keep these functions separate from the Dataset class to prevent the Dataset class from becoming overloaded with additional functionality.\n",
        "\n"
      ],
      "metadata": {
        "id": "vUNpgBWAgVUK"
      }
    },
    {
      "cell_type": "code",
      "source": [
        "# Define function that will load the text file from the provided url\n",
        "def load_text_from_url(url):\n",
        "    \"\"\"\n",
        "    Loads text content from a given URL.\n",
        "\n",
        "    Args:\n",
        "        url: The URL of the text file.\n",
        "\n",
        "    Returns:\n",
        "        The text content as a string, or None if the download fails.\n",
        "    \"\"\"\n",
        "    try:\n",
        "        response = requests.get(url) # Send HTTP GET request to URLs provided\n",
        "        response.raise_for_status()  # Raise an exception for bad status codes\n",
        "        return response.text\n",
        "    # If the execution was not succesful\n",
        "    # The code below will be executed and an error message will be displayed\n",
        "    except requests.exceptions.RequestException as e:\n",
        "        print(f\"Error downloading text from {url}: {e}\")\n",
        "        return None"
      ],
      "metadata": {
        "id": "NottQ6Q2T4uK"
      },
      "execution_count": 2,
      "outputs": []
    },
    {
      "cell_type": "markdown",
      "source": [
        "___\n",
        "## Defining the **TextCharacterDataset** class\n",
        "\n",
        "I have implemented a Dataset class from Pytorch to ensure efficient and organised preprocessing of training/testing data.\n",
        "\n",
        "To prepare the data, the text files are transformed into contexts and tokens. A **\"context\"** is the input of sequence characters that will be used to predict the subsequent three characters, and **\"tokens\"** are the numberical representations (indices) of these characters.\n",
        "\n",
        "A crucial design choice for accelerating model training is the use of a fixed-size context window. To achieve this, each example will be truncated to a set length. If a context is shorter than this length, a special **\\<PAD>** token will be added to the beginning of the context (left side padding). This is crucial to ensure that all input sequences have the same length, which is required for compatibility with an LSTM model.\n",
        "\n",
        "This preprocessing allows for the simultaneous construction of the char2index dictionary and the characters list. The **char2index** dictionaty maps each unique character to a numberical index, and the **characters** list stores the entire corpus as a sequence of character indices. These data structures are essential for the model to be able to process the text data in a numerical format.\n"
      ],
      "metadata": {
        "id": "qNfjL3hRcasu"
      }
    },
    {
      "cell_type": "code",
      "source": [
        "class TextCharacterDataset(Dataset):\n",
        "    def __init__(self, text_urls, context_size):\n",
        "      \"\"\"\n",
        "      The constructor of the TextCharacterDataset class\n",
        "      Called when a new instance of the class is created\n",
        "\n",
        "      Args:\n",
        "          text_urls: a list of URLs\n",
        "          context_size: integer to represent context window size\n",
        "      \"\"\"\n",
        "      self.text_urls = text_urls\n",
        "      self.context_size = context_size\n",
        "      self.char2index = {\"<PAD>\": 0}  # Initialise char2index with padding\n",
        "      self.characters = [] # Initialise characters list\n",
        "      self.intro_regex = re.compile(r\"CHAPTER I|BOOK I|Letter 1|CHAPTER 1\")\n",
        "      self.end_regex = re.compile(r\"THE END|\\*\\*\\* END OF THE PROJECT GUTENBERG EBOOK \")\n",
        "      self.load_and_preprocess_data()  # Combine load and preprocess\n",
        "\n",
        "    # Loads and processes text from the specified URLs.\n",
        "    def load_and_preprocess_data(self):\n",
        "      # Variable used to asign unique indices to characters\n",
        "      next_index = 1\n",
        "      all_text = \"\"\n",
        "\n",
        "      for url in self.text_urls:\n",
        "        text = self.load_text_from_url(url) # Get text from URL\n",
        "        if text: # Only process if text was loaded successfully\n",
        "          text = self.remove_gutenberg_intro(text)\n",
        "          text = self.remove_gutenberg_end(text)\n",
        "          text = self.clean_text(text)\n",
        "          all_text += text\n",
        "\n",
        "          # Create char2index from the cleaned text\n",
        "          for char in all_text:\n",
        "            if char not in self.char2index:\n",
        "                # Extend the characters list\n",
        "                self.char2index[char] = next_index\n",
        "                next_index += 1\n",
        "\n",
        "        # create self.characters using new char2index.\n",
        "        self.characters = [self.char2index[char] for char in all_text]\n",
        "\n",
        "    def load_text_from_url(self, url):\n",
        "      try:\n",
        "        response = requests.get(url)\n",
        "        response.raise_for_status()  # Raise HTTPError for bad responses (4xx or 5xx)\n",
        "        return response.text\n",
        "      except requests.exceptions.RequestException as e:\n",
        "        print(f\"Error downloading {url}: {e}\")\n",
        "        return None\n",
        "\n",
        "    def remove_gutenberg_intro(self, text):\n",
        "      start_marker = \"The Project Gutenberg eBook of \"\n",
        "      start_index = text.find(start_marker)\n",
        "      end_match = self.intro_regex.search(text)\n",
        "\n",
        "      if start_index != -1 and end_match:\n",
        "        end_index = end_match.start()\n",
        "        return text[end_index:]\n",
        "      else:\n",
        "        return text\n",
        "\n",
        "    def remove_gutenberg_end(self, text):\n",
        "        end_match = self.end_regex.search(text)\n",
        "\n",
        "        if end_match:\n",
        "            end_index = end_match.start()\n",
        "            return text[:end_index + len(end_match.group(0))]\n",
        "        else:\n",
        "            return text\n",
        "\n",
        "    def clean_text(self, text):\n",
        "      text = text.lower()\n",
        "      text = ''.join(c for c in text if c.isalnum() or c.isspace())\n",
        "      return text\n",
        "\n",
        "    # Defines length of dataset\n",
        "    # Used by PyTorch's DataLoader\n",
        "    def __len__(self):\n",
        "      return len(self.characters) - self.context_size - 3 + 1\n",
        "\n",
        "    def __getitem__(self, index):\n",
        "      \"\"\"\n",
        "      Allows access to individual data points from dataset\n",
        "\n",
        "      Args:\n",
        "          index: position of data point to retrieve\n",
        "      \"\"\"\n",
        "      start_idx = max(0, index)\n",
        "      end_idx = start_idx + self.context_size\n",
        "      context = self.characters[start_idx:end_idx]\n",
        "\n",
        "      target_start_idx = end_idx\n",
        "      target_end_idx = min(end_idx + 3, len(self.characters)) # Clamp target_end_idx\n",
        "      targets = self.characters[target_start_idx:target_end_idx]\n",
        "\n",
        "      # Handle cases where target is out of bounds\n",
        "      if len(targets) == 0:\n",
        "        return None\n",
        "\n",
        "      # Pad context if necessary\n",
        "      if len(context) < self.context_size:\n",
        "          context = [self.char2index[\"<PAD>\"]] * (self.context_size - len(context)) + context\n",
        "\n",
        "      # Pad targets if necessary\n",
        "      if len(targets) < 3:\n",
        "          targets = targets + [self.char2index[\"<PAD>\"]] * (3 - len(targets))\n",
        "\n",
        "      input_ids = torch.LongTensor(context)\n",
        "      target_ids = torch.LongTensor(targets)\n",
        "\n",
        "      return input_ids, target_ids"
      ],
      "metadata": {
        "id": "_Y7zFCRZOqqs"
      },
      "execution_count": 3,
      "outputs": []
    },
    {
      "cell_type": "markdown",
      "source": [
        "___\n",
        "##Data Splitting and Inspection\n",
        "\n",
        "To ensure the model is able to generalise what it has learned, it was important to consider the size of the datasplit to allow the LSTM to have enough depth within the data, but also to not overpower the test and validation sets.\n",
        "\n",
        "Source: https://www.v7labs.com/blog/train-validation-test-set\n",
        "\n",
        "**Limitations:** While this approach is great for my fixed 7-book split, it does not allow me to experiment with different split ratios or combinations of books, as I would  would need to modify the train_urls, val_urls, and test_urls lists directly. Furthermore, if I was working with a much larger number of books or a more dynamic set of data sources, I would need to think of another way to"
      ],
      "metadata": {
        "id": "H3fBemWPerhF"
      }
    },
    {
      "cell_type": "code",
      "source": [
        "urls = [\n",
        "    \"https://www.gutenberg.org/cache/epub/345/pg345.txt\",\n",
        "    \"https://www.gutenberg.org/cache/epub/2701/pg2701.txt\",\n",
        "    \"https://www.gutenberg.org/cache/epub/1342/pg1342.txt\",\n",
        "    \"https://www.gutenberg.org/cache/epub/84/pg84.txt\",\n",
        "    \"https://www.gutenberg.org/cache/epub/3207/pg3207.txt\",\n",
        "    \"https://www.gutenberg.org/cache/epub/1727/pg1727.txt\",\n",
        "    \"https://www.gutenberg.org/cache/epub/74/pg74.txt\",\n",
        "]\n",
        "\n",
        "# Split URLs into train, validation, and test sets\n",
        "train_urls, temp_urls = train_test_split(urls, test_size=0.2, random_state=42)\n",
        "val_urls, test_urls = train_test_split(temp_urls, test_size=0.5, random_state=42)\n",
        "\n",
        "# Define context size\n",
        "context_size = 100\n",
        "\n",
        "# Create separate datasets for each split\n",
        "train_data = TextCharacterDataset(train_urls, context_size)\n",
        "val_data = TextCharacterDataset(val_urls, context_size)\n",
        "test_data = TextCharacterDataset(test_urls, context_size)\n",
        "\n",
        "# Inspect train, test & val dataset length\n",
        "print(f\"Train dataset size: {len(train_data)}\")\n",
        "print(f\"Validation dataset size: {len(val_data)}\")\n",
        "print(f\"Test dataset size: {len(test_data)}\")\n",
        "\n",
        "# Inspect shape of input and target tensor\n",
        "print(f\"Shape of input tensor: {train_data[0][0].shape}\")\n",
        "print(f\"Shape of target tensor: {train_data[0][1].shape}\")"
      ],
      "metadata": {
        "colab": {
          "base_uri": "https://localhost:8080/"
        },
        "id": "n0ntwPJbWj3O",
        "outputId": "a8472801-ed3f-4fd4-af68-37781e7e9349"
      },
      "execution_count": 4,
      "outputs": [
        {
          "output_type": "stream",
          "name": "stdout",
          "text": [
            "Train dataset size: 2228732\n",
            "Validation dataset size: 825711\n",
            "Test dataset size: 1194688\n",
            "Shape of input tensor: torch.Size([100])\n",
            "Shape of target tensor: torch.Size([3])\n"
          ]
        }
      ]
    },
    {
      "cell_type": "markdown",
      "source": [
        "___\n",
        "# Model Implementation\n",
        "\n",
        "I have selected an LSTM model from the RNN family because it is a model that is capable of capturing context and long-term dependencies. I believe that this will be highly beneficial to the autocompletion task.\n",
        "\n",
        "This section is broken down into the following code blocks:\n",
        "1. Defining the LSTM network class\n",
        "2. Training the model\n",
        "3. Model evaluation\n",
        "3. Creating a user-friendly interface for the model"
      ],
      "metadata": {
        "id": "s6jRU3RMauWu"
      }
    },
    {
      "cell_type": "code",
      "source": [
        "class CharLSTMModel(nn.Module):\n",
        "    def __init__(self, n_characters, embedding_dimension, hidden_dimension):\n",
        "        super().__init__()\n",
        "\n",
        "        self.hidden_dimension = hidden_dimension\n",
        "\n",
        "        # Embedding layer:\n",
        "        # Converts character indices into dense vectors.\n",
        "        # embedding_dimension determines the size of each vector.\n",
        "        self.embedding_layer = nn.Embedding(n_characters, embedding_dimension)\n",
        "\n",
        "        # LSTM layer:\n",
        "        # Processes the embedded character sequences.\n",
        "        # hidden_dimension determines the size of the hidden state,\n",
        "        # which captures the LSTM's memory.\n",
        "        self.LSTM = nn.LSTM(embedding_dimension, hidden_dimension, num_layers=1, batch_first=True)\n",
        "\n",
        "        # Output layer:\n",
        "        # Maps the LSTM's output to the probabilities of the next 3 characters.\n",
        "        # 3 * n_characters because we are predicting 3 characters.\n",
        "        self.output_layer = nn.Linear(hidden_dimension, 3 * n_characters)\n",
        "\n",
        "    def forward(self, x, hidden):\n",
        "        e = self.embedding_layer(x)\n",
        "\n",
        "        if hidden is not None:\n",
        "            lstm_out, new_hidden = self.LSTM(e, hidden)\n",
        "        else:\n",
        "            lstm_out, new_hidden = self.LSTM(e)\n",
        "\n",
        "        lstm_out = lstm_out[:, -1, :]\n",
        "        logits = self.output_layer(lstm_out)\n",
        "\n",
        "        # Reshape logits to (batch_size, 3, n_characters)\n",
        "        logits = logits.view(-1, 3, self.output_layer.out_features // 3)\n",
        "\n",
        "        return logits, new_hidden"
      ],
      "metadata": {
        "id": "naDD7EPwbT0U"
      },
      "execution_count": 5,
      "outputs": []
    },
    {
      "cell_type": "markdown",
      "source": [
        "___\n",
        "## Training the network\n",
        "\n",
        "Since I created an LSTM class, it is much easier to test out different parameters when training my model. In the code block below, the first part of the code ensures that a GPU is used if available and the parameters are defined. I then create an instance of the model with the defined parameters, with the loss function and the optimiser. I use the PyTorch DataLoader module to load my data and shuffle it.\n",
        "\n",
        "I define a train function, which will make the training process more modular."
      ],
      "metadata": {
        "id": "a18SRjHreWEx"
      }
    },
    {
      "cell_type": "code",
      "source": [
        "# Check whether a GPU is available,\n",
        "# If so, run everything on a GPU\n",
        "device = \"cpu\"\n",
        "if torch.cuda.is_available():\n",
        "    device = \"cuda\"\n",
        "print(f\"Using {device} device\")\n",
        "\n",
        "# Define the batch_size, the window size, the output size, and the size of the hidden layer\n",
        "batch_size = 1024\n",
        "n_characters = len(train_data.char2index)\n",
        "hidden_size = 128\n",
        "embedding_size = 128\n",
        "# Create a variable for <PAD> token\n",
        "pad_index = train_data.char2index[\"<PAD>\"]\n",
        "\n",
        "# Define the model and move it to the GPU, if available.\n",
        "model = CharLSTMModel(n_characters, embedding_size, hidden_size).to(device)\n",
        "# Use a cross-entropy loss here\n",
        "loss_fn = nn.CrossEntropyLoss(ignore_index=0).to(device)\n",
        "# Finally, let's define the optimiser\n",
        "optimizer = torch.optim.Adam(model.parameters(), lr=1e-3)\n",
        "\n",
        "# This loads the data for training\n",
        "train_loader = DataLoader(train_data, batch_size=batch_size, shuffle=True)\n",
        "val_loader = DataLoader(val_data, batch_size=batch_size)\n",
        "test_loader = DataLoader(test_data, batch_size=batch_size)\n",
        "\n",
        "# The function for running model training\n",
        "def train(model, loss_fn, optimizer, train_loader, val_loader, epochs=150, verbose=5):\n",
        "  # number of times we go through the training data\n",
        "  # set the mode of the model to training so that parameters are being updated.\n",
        "  model.train()\n",
        "  train_losses = []\n",
        "  val_losses = []\n",
        "\n",
        "  for epoch in range(epochs):\n",
        "    # Intialise the loss at the beginning of each epoch\n",
        "    epoch_train_losses = []\n",
        "    epoch_val_losses = []\n",
        "\n",
        "    # Training loop\n",
        "    for X, y in tqdm.tqdm(train_loader):\n",
        "      h = None # Initialise hidden state here\n",
        "      X = X.to(device)\n",
        "      y = y.to(device) # Shape: (batch_size, 3, n_characters)\n",
        "      # Reset the optimiser\n",
        "      optimizer.zero_grad()\n",
        "      # Make predictions using the model\n",
        "      logits, h = model(X, h) # Logits shape: (batch_size, 3, n_characters)\n",
        "      # Compute the loss for the current predictions\n",
        "      loss = 0\n",
        "      for i in range(3):\n",
        "        loss += loss_fn(logits[:, i, :], y[:, i])\n",
        "      loss = loss / 3\n",
        "      # Perform backpropagation\n",
        "      loss.backward()\n",
        "      # Update the weights\n",
        "      optimizer.step()\n",
        "      epoch_train_losses.append(loss.item()) # Append loss to epoch_losses list\n",
        "\n",
        "      # Detach the hidden state to prevent gradient accumulation\n",
        "      # This is important for LSTMs to avoid carrying over information\n",
        "      # from previous batches, which can lead to memory issues and\n",
        "      # incorrect gradient calculations.\n",
        "      if h is not None:\n",
        "        h = (h[0].detach(), h[1].detach())\n",
        "\n",
        "      train_losses.append(sum(epoch_train_losses) / len(epoch_train_losses))\n",
        "\n",
        "    # Validation loop\n",
        "    model.eval()\n",
        "    with torch.no_grad():\n",
        "      for X, y in val_loader:\n",
        "        h = None\n",
        "        X = X.to(device)\n",
        "        y = y.to(device)\n",
        "        logits, h = model(X, h)\n",
        "        loss = 0\n",
        "        for i in range(3):\n",
        "          loss += loss_fn(logits[:, i, :], y[:, i])\n",
        "        loss = loss / 3\n",
        "        epoch_val_losses.append(loss.item())\n",
        "\n",
        "    # Append average validation loss for this epoch\n",
        "    val_losses.append(sum(epoch_val_losses) / len(epoch_val_losses))\n",
        "\n",
        "    # Print updates\n",
        "    if verbose > 0 and (epoch + 1) % verbose == 0:\n",
        "      print(f\"Epoch: {epoch}, Train Loss: {train_losses[-1]}, Val Loss: {val_losses[-1]}\")\n",
        "\n",
        "    # Switch back to training mode after validation\n",
        "    model.train()\n",
        "\n",
        "  return train_losses, val_losses"
      ],
      "metadata": {
        "id": "_yh4il6veWY4",
        "colab": {
          "base_uri": "https://localhost:8080/"
        },
        "outputId": "08d03409-4d73-4d17-aaf1-d5bb24c11bcd"
      },
      "execution_count": 18,
      "outputs": [
        {
          "output_type": "stream",
          "name": "stdout",
          "text": [
            "Using cuda device\n"
          ]
        }
      ]
    },
    {
      "cell_type": "markdown",
      "source": [
        "## Training the model"
      ],
      "metadata": {
        "id": "cjIlwsHJehEx"
      }
    },
    {
      "cell_type": "code",
      "source": [
        "# Train the model\n",
        "train_losses, val_losses = train(model, loss_fn, optimizer, train_loader, val_loader, epochs=10, verbose=5)"
      ],
      "metadata": {
        "id": "824LU-85egZb",
        "colab": {
          "base_uri": "https://localhost:8080/"
        },
        "outputId": "eecb3c99-77b0-414d-d7a2-1419f3037f7d"
      },
      "execution_count": null,
      "outputs": [
        {
          "output_type": "stream",
          "name": "stderr",
          "text": [
            "100%|██████████| 2177/2177 [02:21<00:00, 15.38it/s]\n",
            " 17%|█▋        | 373/2177 [00:24<02:06, 14.24it/s]"
          ]
        }
      ]
    },
    {
      "cell_type": "markdown",
      "source": [
        "## Training History\n"
      ],
      "metadata": {
        "id": "m8BGoCa7f8TA"
      }
    },
    {
      "cell_type": "code",
      "source": [
        "import matplotlib.pyplot as plt\n",
        "\n",
        "def plot_training_history(train_losses, val_losses):\n",
        "    \"\"\"Plots the training and validation loss over epochs.\"\"\"\n",
        "    plt.plot(train_losses, label=\"Training Loss\")\n",
        "    plt.plot(val_losses, label=\"Validation Loss\")\n",
        "    plt.xlabel(\"Epoch\")\n",
        "    plt.ylabel(\"Loss\")\n",
        "    plt.title(\"Training and Validation Loss History\")\n",
        "    plt.legend()\n",
        "    plt.show()\n",
        "\n",
        "plot_training_history(train_losses, val_losses)"
      ],
      "metadata": {
        "id": "iijPViv4f-XF",
        "colab": {
          "base_uri": "https://localhost:8080/",
          "height": 472
        },
        "outputId": "b7b463e7-61b8-410b-bf1c-4701288f903f"
      },
      "execution_count": 17,
      "outputs": [
        {
          "output_type": "display_data",
          "data": {
            "text/plain": [
              "<Figure size 640x480 with 1 Axes>"
            ],
            "image/png": "[encoded data removed]"
          },
          "metadata": {}
        }
      ]
    },
    {
      "cell_type": "markdown",
      "source": [
        "## Evaluating the model\n",
        "\n",
        "Below are some visualisations that display the training of three tested models."
      ],
      "metadata": {
        "id": "utNl61PIfh8U"
      }
    },
    {
      "cell_type": "code",
      "source": [],
      "metadata": {
        "id": "DkYktQC6fsK-"
      },
      "execution_count": null,
      "outputs": []
    },
    {
      "cell_type": "markdown",
      "source": [
        "# Limitations & Conclusion"
      ],
      "metadata": {
        "id": "iiRscdzZbUdr"
      }
    },
    {
      "cell_type": "code",
      "source": [],
      "metadata": {
        "id": "dsSRHoITguE_"
      },
      "execution_count": null,
      "outputs": []
    }
  ]
}